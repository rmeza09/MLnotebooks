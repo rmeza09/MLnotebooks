{
 "cells": [
  {
   "cell_type": "markdown",
   "metadata": {},
   "source": [
    "If you can run this notebook to completion, then it means things are installed correctly and you'll likely be able to run most of the in-class exercises with no issues."
   ]
  },
  {
   "cell_type": "code",
   "execution_count": null,
   "metadata": {},
   "outputs": [],
   "source": [
    "%matplotlib inline\n",
    "# Import useful libraries\n",
    "import numpy as np\n",
    "import pandas as pd\n",
    "import math\n",
    "import seaborn as sns\n",
    "import matplotlib.pyplot as plt"
   ]
  },
  {
   "cell_type": "code",
   "execution_count": null,
   "metadata": {},
   "outputs": [],
   "source": [
    "from bokeh.plotting import figure, show\n",
    "from bokeh.models import ColumnDataSource\n",
    "from bokeh.io import output_notebook\n",
    "# Make it so that Bokeh outputs to the notebook, not to a file\n",
    "from bokeh.resources import INLINE\n",
    "output_notebook(resources=INLINE)\n",
    "#output_notebook() # This line will only work if you are connected to the internet"
   ]
  },
  {
   "cell_type": "code",
   "execution_count": null,
   "metadata": {},
   "outputs": [],
   "source": [
    "# Test Pandas\n",
    "data_url = 'https://gist.githubusercontent.com/markfuge/e2915d90ad3da6b0fa4e3d57319f922b/raw/1537d5a5fd9c35224f788c259e092bb86b2f9f61/titanic.csv'\n",
    "df = pd.read_csv(data_url, delimiter='|')\n",
    "subdf = df[['pclass','fare','age','sex','embarked', 'survived','sibsp','parch']]\n",
    "ddf = subdf.dropna()\n",
    "ddf"
   ]
  },
  {
   "cell_type": "code",
   "execution_count": null,
   "metadata": {},
   "outputs": [],
   "source": [
    "# Test Bokeh Plotting\n",
    "from bokeh.transform import linear_cmap\n",
    "from bokeh.palettes import Spectral6\n",
    "\n",
    "mapper = linear_cmap(field_name='survived', palette=Spectral6 ,low=0 ,high=1)\n",
    "\n",
    "p = figure(width=600, height=400,\n",
    "          title='Fare vs Age on Survival Rate')\n",
    "p.xaxis.axis_label = 'Fare'\n",
    "p.yaxis.axis_label = 'Passenger Age'\n",
    "source = ColumnDataSource(ddf)\n",
    "p.circle(x='fare',y='age',line_color=mapper,fill_color=mapper,source=source)\n",
    "show(p)"
   ]
  },
  {
   "cell_type": "code",
   "execution_count": null,
   "metadata": {},
   "outputs": [],
   "source": [
    "# Test Seaborn\n",
    "sns.set()\n",
    "sns.pairplot(ddf, hue=\"survived\", kind='scatter',\n",
    "             #vars=['pclass','fare','age','sibsp','parch']) # Beware, all those who enter here!\n",
    "             vars=['pclass','fare','age'])"
   ]
  },
  {
   "cell_type": "code",
   "execution_count": null,
   "metadata": {
    "scrolled": false
   },
   "outputs": [],
   "source": [
    "g = sns.FacetGrid(ddf, col=\"pclass\", row='sex', hue=\"survived\")\n",
    "g.map(plt.scatter, \"fare\", \"age\", alpha=.5)\n",
    "g.add_legend();"
   ]
  },
  {
   "cell_type": "code",
   "execution_count": null,
   "metadata": {},
   "outputs": [],
   "source": [
    "# Test sklearn\n",
    "from sklearn import linear_model"
   ]
  },
  {
   "cell_type": "code",
   "execution_count": null,
   "metadata": {},
   "outputs": [],
   "source": [
    "# Naive Logistic Regression with no fancy encoding stuff\n",
    "y = ddf['survived']\n",
    "vals=['pclass','fare','age','sibsp','parch']\n",
    "X = ddf[vals]\n",
    "clf = linear_model.LogisticRegression(C=1e5)\n",
    "clf.fit(X, y)\n",
    "for i,v in enumerate(vals):\n",
    "    print(\"Weight for \",v,\":\\t\",clf.coef_[0,i])"
   ]
  }
 ],
 "metadata": {
  "kernelspec": {
   "display_name": "Python 3",
   "language": "python",
   "name": "python3"
  },
  "language_info": {
   "codemirror_mode": {
    "name": "ipython",
    "version": 3
   },
   "file_extension": ".py",
   "mimetype": "text/x-python",
   "name": "python",
   "nbconvert_exporter": "python",
   "pygments_lexer": "ipython3",
   "version": "3.6.4"
  }
 },
 "nbformat": 4,
 "nbformat_minor": 1
}
