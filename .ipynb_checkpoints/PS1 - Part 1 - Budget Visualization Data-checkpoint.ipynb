{
 "cells": [
  {
   "cell_type": "markdown",
   "metadata": {},
   "source": [
    "# PS1-Q1: Budget Visualization"
   ]
  },
  {
   "cell_type": "markdown",
   "metadata": {},
   "source": [
    "**Your Name:** [Insert Your Name here]\n",
    "\n",
    "**People I discussed this question with:** [Put \"None\" if you didn't discuss this with anyone, otherwise list the names of folks you talked about this problem set with]"
   ]
  },
  {
   "cell_type": "markdown",
   "metadata": {},
   "source": [
    "# Preamble: Loading the Data\n",
    "The below code loads the relevant budget data for you and places it in a dataframe. This should show you some basic operations for loading data and well as how to manipulate the data frame entries and pull values from a table. Feel free to mess around with it to help understand what the various features do."
   ]
  },
  {
   "cell_type": "code",
   "execution_count": 3,
   "metadata": {},
   "outputs": [],
   "source": [
    "import numpy as np\n",
    "import pandas as pd\n",
    "data_url = 'https://raw.githubusercontent.com/WhiteHouse/budgetdata/2016/data/outlays.csv'\n",
    "data = pd.io.parsers.read_csv(data_url,\n",
    "                             usecols = [0,1,3,5,8,9,67])\n",
    "# convert the 2016 data to a number\n",
    "data['2016'] = data['2016'].str.replace(',', '')"
   ]
  },
  {
   "cell_type": "code",
   "execution_count": 4,
   "metadata": {
    "scrolled": true
   },
   "outputs": [
    {
     "data": {
      "text/plain": [
       "0           0\n",
       "1           0\n",
       "2           0\n",
       "3           0\n",
       "4       24000\n",
       "        ...  \n",
       "4994        0\n",
       "4995        0\n",
       "4996        0\n",
       "4997    -1000\n",
       "4998        0\n",
       "Name: 2016, Length: 4999, dtype: object"
      ]
     },
     "execution_count": 4,
     "metadata": {},
     "output_type": "execute_result"
    }
   ],
   "source": [
    "data['2016']"
   ]
  },
  {
   "cell_type": "code",
   "execution_count": 5,
   "metadata": {},
   "outputs": [],
   "source": [
    "data['2016']=data['2016'].apply(pd.to_numeric)"
   ]
  },
  {
   "cell_type": "code",
   "execution_count": 6,
   "metadata": {
    "scrolled": true
   },
   "outputs": [
    {
     "data": {
      "text/plain": [
       "1206000"
      ]
     },
     "execution_count": 6,
     "metadata": {},
     "output_type": "execute_result"
    }
   ],
   "source": [
    "leg_branch = data['Agency Name']=='Legislative Branch'\n",
    "data_leg_branch = data[leg_branch]\n",
    "data_leg_branch['2016']\n",
    "data[leg_branch]['2016'].max()"
   ]
  },
  {
   "cell_type": "code",
   "execution_count": 7,
   "metadata": {},
   "outputs": [],
   "source": [
    "# The 2016 data is actually in thousands of dollars, so correct for this\n",
    "data['2016']=data['2016']*1000"
   ]
  },
  {
   "cell_type": "code",
   "execution_count": 8,
   "metadata": {},
   "outputs": [
    {
     "name": "stdout",
     "output_type": "stream",
     "text": [
      "Total Expenditures:  $3,999,467,000,000.00\n"
     ]
    }
   ],
   "source": [
    "# 2016 Federal Expeditures were ~$3.99 Trillion, so this should match that\n",
    "import locale\n",
    "locale.setlocale( locale.LC_ALL, '' )\n",
    "total_budget = sum(data['2016'])\n",
    "print('Total Expenditures: ',\n",
    "      locale.currency( total_budget, grouping=True ))"
   ]
  },
  {
   "cell_type": "code",
   "execution_count": 9,
   "metadata": {},
   "outputs": [],
   "source": [
    "# We only want data points that were discretionary and non-zero\n",
    "non_zero = data['2016']>0\n",
    "discretionary = data['BEA Category']=='Discretionary'"
   ]
  },
  {
   "cell_type": "code",
   "execution_count": 10,
   "metadata": {},
   "outputs": [],
   "source": [
    "relevant_data = data[discretionary & non_zero]"
   ]
  },
  {
   "cell_type": "code",
   "execution_count": 11,
   "metadata": {
    "scrolled": true
   },
   "outputs": [
    {
     "data": {
      "text/html": [
       "<div>\n",
       "<style scoped>\n",
       "    .dataframe tbody tr th:only-of-type {\n",
       "        vertical-align: middle;\n",
       "    }\n",
       "\n",
       "    .dataframe tbody tr th {\n",
       "        vertical-align: top;\n",
       "    }\n",
       "\n",
       "    .dataframe thead th {\n",
       "        text-align: right;\n",
       "    }\n",
       "</style>\n",
       "<table border=\"1\" class=\"dataframe\">\n",
       "  <thead>\n",
       "    <tr style=\"text-align: right;\">\n",
       "      <th></th>\n",
       "      <th>Agency Code</th>\n",
       "      <th>Agency Name</th>\n",
       "      <th>Bureau Name</th>\n",
       "      <th>Account Name</th>\n",
       "      <th>Subfunction Title</th>\n",
       "      <th>BEA Category</th>\n",
       "      <th>2016</th>\n",
       "    </tr>\n",
       "  </thead>\n",
       "  <tbody>\n",
       "    <tr>\n",
       "      <th>8</th>\n",
       "      <td>1</td>\n",
       "      <td>Legislative Branch</td>\n",
       "      <td>Senate</td>\n",
       "      <td>Salaries, Officers and Employees</td>\n",
       "      <td>Legislative functions</td>\n",
       "      <td>Discretionary</td>\n",
       "      <td>186000000</td>\n",
       "    </tr>\n",
       "    <tr>\n",
       "      <th>10</th>\n",
       "      <td>1</td>\n",
       "      <td>Legislative Branch</td>\n",
       "      <td>Senate</td>\n",
       "      <td>Miscellaneous Items</td>\n",
       "      <td>Legislative functions</td>\n",
       "      <td>Discretionary</td>\n",
       "      <td>21000000</td>\n",
       "    </tr>\n",
       "    <tr>\n",
       "      <th>11</th>\n",
       "      <td>1</td>\n",
       "      <td>Legislative Branch</td>\n",
       "      <td>Senate</td>\n",
       "      <td>Secretary of the Senate</td>\n",
       "      <td>Legislative functions</td>\n",
       "      <td>Discretionary</td>\n",
       "      <td>8000000</td>\n",
       "    </tr>\n",
       "    <tr>\n",
       "      <th>12</th>\n",
       "      <td>1</td>\n",
       "      <td>Legislative Branch</td>\n",
       "      <td>Senate</td>\n",
       "      <td>Sergeant at Arms and Doorkeeper of the Senate</td>\n",
       "      <td>Legislative functions</td>\n",
       "      <td>Discretionary</td>\n",
       "      <td>134000000</td>\n",
       "    </tr>\n",
       "    <tr>\n",
       "      <th>13</th>\n",
       "      <td>1</td>\n",
       "      <td>Legislative Branch</td>\n",
       "      <td>Senate</td>\n",
       "      <td>Inquiries and Investigations</td>\n",
       "      <td>Legislative functions</td>\n",
       "      <td>Discretionary</td>\n",
       "      <td>134000000</td>\n",
       "    </tr>\n",
       "    <tr>\n",
       "      <th>...</th>\n",
       "      <td>...</td>\n",
       "      <td>...</td>\n",
       "      <td>...</td>\n",
       "      <td>...</td>\n",
       "      <td>...</td>\n",
       "      <td>...</td>\n",
       "      <td>...</td>\n",
       "    </tr>\n",
       "    <tr>\n",
       "      <th>4791</th>\n",
       "      <td>537</td>\n",
       "      <td>Federal Housing Finance Agency</td>\n",
       "      <td>Federal Housing Finance Agency</td>\n",
       "      <td>Office of Inspector General</td>\n",
       "      <td>Mortgage credit</td>\n",
       "      <td>Discretionary</td>\n",
       "      <td>42000000</td>\n",
       "    </tr>\n",
       "    <tr>\n",
       "      <th>4794</th>\n",
       "      <td>539</td>\n",
       "      <td>Recovery Accountability and Transparency Board</td>\n",
       "      <td>Recovery Act Accountability and Transparency B...</td>\n",
       "      <td>Salaries and Expenses</td>\n",
       "      <td>Other general government</td>\n",
       "      <td>Discretionary</td>\n",
       "      <td>1000000</td>\n",
       "    </tr>\n",
       "    <tr>\n",
       "      <th>4796</th>\n",
       "      <td>573</td>\n",
       "      <td>Northern Border Regional Commission</td>\n",
       "      <td>Northern Border Regional Commission</td>\n",
       "      <td>Northern Border Regional Commission</td>\n",
       "      <td>Area and regional development</td>\n",
       "      <td>Discretionary</td>\n",
       "      <td>5000000</td>\n",
       "    </tr>\n",
       "    <tr>\n",
       "      <th>4797</th>\n",
       "      <td>575</td>\n",
       "      <td>National Railroad Passenger Corporation Office...</td>\n",
       "      <td>National Railroad Passenger Corporation Office...</td>\n",
       "      <td>Salaries and Expenses</td>\n",
       "      <td>Ground transportation</td>\n",
       "      <td>Discretionary</td>\n",
       "      <td>25000000</td>\n",
       "    </tr>\n",
       "    <tr>\n",
       "      <th>4812</th>\n",
       "      <td>587</td>\n",
       "      <td>Public Defender Service for the District of Co...</td>\n",
       "      <td>Public Defender Service for the District of Co...</td>\n",
       "      <td>Federal Payment to the District of Columbia Pu...</td>\n",
       "      <td>Criminal justice assistance</td>\n",
       "      <td>Discretionary</td>\n",
       "      <td>41000000</td>\n",
       "    </tr>\n",
       "  </tbody>\n",
       "</table>\n",
       "<p>956 rows × 7 columns</p>\n",
       "</div>"
      ],
      "text/plain": [
       "      Agency Code                                        Agency Name  \\\n",
       "8               1                                 Legislative Branch   \n",
       "10              1                                 Legislative Branch   \n",
       "11              1                                 Legislative Branch   \n",
       "12              1                                 Legislative Branch   \n",
       "13              1                                 Legislative Branch   \n",
       "...           ...                                                ...   \n",
       "4791          537                     Federal Housing Finance Agency   \n",
       "4794          539     Recovery Accountability and Transparency Board   \n",
       "4796          573                Northern Border Regional Commission   \n",
       "4797          575  National Railroad Passenger Corporation Office...   \n",
       "4812          587  Public Defender Service for the District of Co...   \n",
       "\n",
       "                                            Bureau Name  \\\n",
       "8                                                Senate   \n",
       "10                                               Senate   \n",
       "11                                               Senate   \n",
       "12                                               Senate   \n",
       "13                                               Senate   \n",
       "...                                                 ...   \n",
       "4791                     Federal Housing Finance Agency   \n",
       "4794  Recovery Act Accountability and Transparency B...   \n",
       "4796                Northern Border Regional Commission   \n",
       "4797  National Railroad Passenger Corporation Office...   \n",
       "4812  Public Defender Service for the District of Co...   \n",
       "\n",
       "                                           Account Name  \\\n",
       "8                      Salaries, Officers and Employees   \n",
       "10                                  Miscellaneous Items   \n",
       "11                              Secretary of the Senate   \n",
       "12        Sergeant at Arms and Doorkeeper of the Senate   \n",
       "13                         Inquiries and Investigations   \n",
       "...                                                 ...   \n",
       "4791                        Office of Inspector General   \n",
       "4794                              Salaries and Expenses   \n",
       "4796                Northern Border Regional Commission   \n",
       "4797                              Salaries and Expenses   \n",
       "4812  Federal Payment to the District of Columbia Pu...   \n",
       "\n",
       "                  Subfunction Title   BEA Category       2016  \n",
       "8             Legislative functions  Discretionary  186000000  \n",
       "10            Legislative functions  Discretionary   21000000  \n",
       "11            Legislative functions  Discretionary    8000000  \n",
       "12            Legislative functions  Discretionary  134000000  \n",
       "13            Legislative functions  Discretionary  134000000  \n",
       "...                             ...            ...        ...  \n",
       "4791                Mortgage credit  Discretionary   42000000  \n",
       "4794       Other general government  Discretionary    1000000  \n",
       "4796  Area and regional development  Discretionary    5000000  \n",
       "4797          Ground transportation  Discretionary   25000000  \n",
       "4812    Criminal justice assistance  Discretionary   41000000  \n",
       "\n",
       "[956 rows x 7 columns]"
      ]
     },
     "execution_count": 11,
     "metadata": {},
     "output_type": "execute_result"
    }
   ],
   "source": [
    "relevant_data"
   ]
  },
  {
   "cell_type": "code",
   "execution_count": 16,
   "metadata": {},
   "outputs": [
    {
     "data": {
      "text/html": [
       "<div>\n",
       "<style scoped>\n",
       "    .dataframe tbody tr th:only-of-type {\n",
       "        vertical-align: middle;\n",
       "    }\n",
       "\n",
       "    .dataframe tbody tr th {\n",
       "        vertical-align: top;\n",
       "    }\n",
       "\n",
       "    .dataframe thead th {\n",
       "        text-align: right;\n",
       "    }\n",
       "</style>\n",
       "<table border=\"1\" class=\"dataframe\">\n",
       "  <thead>\n",
       "    <tr style=\"text-align: right;\">\n",
       "      <th></th>\n",
       "      <th>Agency Name</th>\n",
       "    </tr>\n",
       "  </thead>\n",
       "  <tbody>\n",
       "    <tr>\n",
       "      <th>8</th>\n",
       "      <td>Legislative Branch</td>\n",
       "    </tr>\n",
       "    <tr>\n",
       "      <th>10</th>\n",
       "      <td>Legislative Branch</td>\n",
       "    </tr>\n",
       "    <tr>\n",
       "      <th>11</th>\n",
       "      <td>Legislative Branch</td>\n",
       "    </tr>\n",
       "    <tr>\n",
       "      <th>12</th>\n",
       "      <td>Legislative Branch</td>\n",
       "    </tr>\n",
       "    <tr>\n",
       "      <th>13</th>\n",
       "      <td>Legislative Branch</td>\n",
       "    </tr>\n",
       "    <tr>\n",
       "      <th>...</th>\n",
       "      <td>...</td>\n",
       "    </tr>\n",
       "    <tr>\n",
       "      <th>4791</th>\n",
       "      <td>Federal Housing Finance Agency</td>\n",
       "    </tr>\n",
       "    <tr>\n",
       "      <th>4794</th>\n",
       "      <td>Recovery Accountability and Transparency Board</td>\n",
       "    </tr>\n",
       "    <tr>\n",
       "      <th>4796</th>\n",
       "      <td>Northern Border Regional Commission</td>\n",
       "    </tr>\n",
       "    <tr>\n",
       "      <th>4797</th>\n",
       "      <td>National Railroad Passenger Corporation Office...</td>\n",
       "    </tr>\n",
       "    <tr>\n",
       "      <th>4812</th>\n",
       "      <td>Public Defender Service for the District of Co...</td>\n",
       "    </tr>\n",
       "  </tbody>\n",
       "</table>\n",
       "<p>956 rows × 1 columns</p>\n",
       "</div>"
      ],
      "text/plain": [
       "                                            Agency Name\n",
       "8                                    Legislative Branch\n",
       "10                                   Legislative Branch\n",
       "11                                   Legislative Branch\n",
       "12                                   Legislative Branch\n",
       "13                                   Legislative Branch\n",
       "...                                                 ...\n",
       "4791                     Federal Housing Finance Agency\n",
       "4794     Recovery Accountability and Transparency Board\n",
       "4796                Northern Border Regional Commission\n",
       "4797  National Railroad Passenger Corporation Office...\n",
       "4812  Public Defender Service for the District of Co...\n",
       "\n",
       "[956 rows x 1 columns]"
      ]
     },
     "execution_count": 16,
     "metadata": {},
     "output_type": "execute_result"
    }
   ],
   "source": [
    "relevant_data[['Agency Name']]"
   ]
  },
  {
   "cell_type": "markdown",
   "metadata": {
    "collapsed": true,
    "jupyter": {
     "outputs_hidden": true
    }
   },
   "source": [
    "# Question 1:\n",
    "Use any plotting library you would like to answer the following question:\n",
    "\"Of all of the different agencies, which contributed the largest discretionary expenditures to the overall 2016 federal budget?\"\n",
    "\n",
    "Again, remember to customize the plots programmatically so as to incorporate what you have learned regarding the data to ink ratio."
   ]
  },
  {
   "cell_type": "code",
   "execution_count": 67,
   "metadata": {},
   "outputs": [
    {
     "data": {
      "image/png": "[encoded data removed]",
      "text/plain": [
       "<Figure size 640x480 with 1 Axes>"
      ]
     },
     "metadata": {},
     "output_type": "display_data"
    }
   ],
   "source": [
    "import matplotlib.pyplot as plt\n",
    "import matplotlib.ticker as tik\n",
    "import pandas as pd\n",
    "\n",
    "ledger = pd.DataFrame(relevant_data[['Agency Name','2016']]);\n",
    "# i am grouping the data by agency and then summing the discrecionary expenditures in 2016\n",
    "groupedLedger = ledger.groupby('Agency Name', as_index = False)['2016'].sum()\n",
    "\n",
    "# sorting the data in ascending order by spending ['2016']\n",
    "groupedLedger = groupedLedger.sort_values(by='2016', ascending=True)\n",
    "groupedLedger['Agency Name'] = groupedLedger['Agency Name'].str.replace(\"Department of\", \"Dept. of\", regex=False)\n",
    "#print(groupedLedger)\n",
    "\n",
    "# isolating the top 10 spenders manually\n",
    "topSpenders = groupedLedger[groupedLedger['2016'] >= 26_400_000_000]\n",
    "#print(topSpenders)\n",
    "\n",
    "# I want to highlight the top spender\n",
    "colors = ['lightgray' if val < topSpenders['2016'].max() else '#1f77b4' for val in topSpenders['2016']]\n",
    "plt.barh(topSpenders['Agency Name'], topSpenders['2016'], color = colors)\n",
    "# default format was 1e11, want to display in billions\n",
    "axis = plt.gca()\n",
    "axis.xaxis.set_major_formatter(tik.FuncFormatter(lambda x, pos: f'{x / 1e9:.0f}'))\n",
    "# prints the 2016 value associated with each bar\n",
    "for index, value in enumerate(topSpenders['2016']):\n",
    "    plt.text(value, index, f'  {value / 1e9:.1f}B', va='center', fontsize=10)\n",
    "    \n",
    "# formatting\n",
    "plt.title('Top 10, Federal Budget Discretionary Expeditures in 2016')\n",
    "plt.xlabel('Discrecionary Spending in Billions')\n",
    "plt.xlim(0, 700e9);\n"
   ]
  },
  {
   "cell_type": "code",
   "execution_count": null,
   "metadata": {},
   "outputs": [],
   "source": []
  }
 ],
 "metadata": {
  "kernelspec": {
   "display_name": "Python 3 (ipykernel)",
   "language": "python",
   "name": "python3"
  },
  "language_info": {
   "codemirror_mode": {
    "name": "ipython",
    "version": 3
   },
   "file_extension": ".py",
   "mimetype": "text/x-python",
   "name": "python",
   "nbconvert_exporter": "python",
   "pygments_lexer": "ipython3",
   "version": "3.12.7"
  }
 },
 "nbformat": 4,
 "nbformat_minor": 4
}
