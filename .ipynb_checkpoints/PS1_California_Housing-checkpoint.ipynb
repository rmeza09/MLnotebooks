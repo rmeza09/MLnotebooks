{
 "cells": [
  {
   "cell_type": "markdown",
   "metadata": {},
   "source": [
    "# PS1-Q2: Housing Price Visualization"
   ]
  },
  {
   "cell_type": "markdown",
   "metadata": {},
   "source": [
    "**Your Name:** Rafael Meza\n",
    "\n",
    "**People I discussed this assignment with:** None"
   ]
  },
  {
   "cell_type": "markdown",
   "metadata": {},
   "source": [
    "# California Housing Dataset Starter Code\n",
    "The below code is a useful starting point that should get you started with exploring the California Housing data."
   ]
  },
  {
   "cell_type": "code",
   "execution_count": null,
   "metadata": {},
   "outputs": [],
   "source": [
    "import pandas as pd\n",
    "import matplotlib.pyplot as plt\n",
    "import seaborn as sns\n",
    "from sklearn.datasets import fetch_california_housing\n",
    "cal_housing = fetch_california_housing(data_home='.')\n",
    "X = cal_housing.data\n",
    "avg_price = cal_housing.target\n",
    "feature_names = cal_housing.feature_names"
   ]
  },
  {
   "cell_type": "markdown",
   "metadata": {},
   "source": [
    "Some people might find it useful to use a [Pandas](http://synesthesiam.com/posts/an-introduction-to-pandas.html) [dataframe](http://www.gregreda.com/2013/10/26/intro-to-pandas-data-structures/) to [manipulate the data](http://www.gregreda.com/2013/10/26/working-with-pandas-dataframes/), but that is not really required for basic plotting and visualization: "
   ]
  },
  {
   "cell_type": "markdown",
   "metadata": {},
   "source": [
    "# Task 1: Visualize the relationship between features and price\n",
    "Visualize the 2D relationship between housing prices and the provided features of the data. You can choose how you want to do this. \n",
    "\n",
    "[Enter your code into the empty cell below to create the necessary visualizations. You can create multiple cells for code or Markdown code if that helps you craft your submission.]\n"
   ]
  },
  {
   "cell_type": "code",
   "execution_count": null,
   "metadata": {},
   "outputs": [],
   "source": [
    "df=pd.DataFrame(np.hstack([X,avg_price[:,np.newaxis]]),columns=np.hstack([feature_names,'price']))\n",
    "\n",
    "features = ['MedInc', 'HouseAge', 'AveRooms', 'AveBedrms', 'Population', 'AveOccup', 'Latitude', 'Longitude']\n",
    "yAxisLim = {\n",
    "    'AveRooms': (0, 20),\n",
    "    'AveBedrms': (0, 10),\n",
    "    'Population': (0, 20000),\n",
    "    'AveOccup': (0, 10)\n",
    "}\n",
    "\n",
    "plt.figure(figsize=(15, 12))\n",
    "for i, feature in enumerate(features, 1):\n",
    "    plt.subplot(4, 2, i)\n",
    "    sns.scatterplot(data=df, x='price', y=feature)\n",
    "    plt.title(f'{feature} vs. Price')\n",
    "    # here i adjust the y-axis to better focus on the core trend of the data\n",
    "    if feature in yAxisLim:\n",
    "        plt.ylim(yAxisLim[feature])\n",
    "\n",
    "plt.tight_layout()\n",
    "plt.show()\n",
    "\n"
   ]
  },
  {
   "cell_type": "markdown",
   "metadata": {},
   "source": [
    "**Question**: Do any of the features appear linearly correlated with price?\n",
    "\n",
    "**Student Response:** [Insert your response here]"
   ]
  },
  {
   "cell_type": "markdown",
   "metadata": {},
   "source": [
    "# Task 2: Visualize the relationships between features\n",
    "Visualize the 1D and 2D relationships between the features in the dataset."
   ]
  },
  {
   "cell_type": "code",
   "execution_count": null,
   "metadata": {},
   "outputs": [],
   "source": [
    "sns.pairplot(df, diag_kind = 'hist')\n",
    "plt.show()\n"
   ]
  },
  {
   "cell_type": "markdown",
   "metadata": {},
   "source": [
    "**Question**: Are there any anomalies that look strange in the data, and which visualization helped you identify them (hint: there should be)?\n",
    "\n",
    "**Student Response:** [Insert your response here]"
   ]
  },
  {
   "cell_type": "markdown",
   "metadata": {},
   "source": [
    "# (743 Only) Task 3: Visualize relationships w/ Anomalies Removed.\n",
    "Using your knowledge of the anomalies you found above, remove those anomalies using appropriate code below (either by removing the entire data record, or just the specific values that were anomalous, if you prefer to be more surgical) and replot the Task 1 and Task 2 plots you produced above."
   ]
  },
  {
   "cell_type": "code",
   "execution_count": null,
   "metadata": {},
   "outputs": [],
   "source": [
    "filtered_df = df[\n",
    "    (df['AveRooms'] < 20) &\n",
    "    (df['AveBedrms'] < 10) &\n",
    "    (df['Population'] < 20000) &\n",
    "    (df['AveOccup'] < 10)\n",
    "]\n",
    "sns.pairplot(filtered_df, diag_kind = 'hist')\n",
    "plt.show()"
   ]
  },
  {
   "cell_type": "markdown",
   "metadata": {},
   "source": [
    "**Question**: Does this change your answer to the original Task 1 or Task 2 questions?\n",
    "\n",
    "**Student Response:** [Insert your response here] "
   ]
  }
 ],
 "metadata": {
  "kernelspec": {
   "display_name": "Python [conda env:base] *",
   "language": "python",
   "name": "conda-base-py"
  },
  "language_info": {
   "codemirror_mode": {
    "name": "ipython",
    "version": 3
   },
   "file_extension": ".py",
   "mimetype": "text/x-python",
   "name": "python",
   "nbconvert_exporter": "python",
   "pygments_lexer": "ipython3",
   "version": "3.12.7"
  }
 },
 "nbformat": 4,
 "nbformat_minor": 4
}
